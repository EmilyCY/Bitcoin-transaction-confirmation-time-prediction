{
 "cells": [
  {
   "cell_type": "markdown",
   "metadata": {},
   "source": [
    "# Estimating Queue Priority Wait Times\n",
    "\n",
    "https://dl.acm.org/doi/10.1145/3427921.3450249"
   ]
  },
  {
   "cell_type": "code",
   "execution_count": 1,
   "metadata": {},
   "outputs": [],
   "source": [
    "import pandas\n",
    "from scipy.optimize import newton"
   ]
  },
  {
   "cell_type": "code",
   "execution_count": 2,
   "metadata": {},
   "outputs": [],
   "source": [
    "P_GROUP_BOUNDS = [1,3,10]\n",
    "\n",
    "COLS_TO_USE = [4,5,6,9,10,12,13,14,15,16]\n",
    "HEADER_NAMES = ['size','weight','recieved_time','fee','confirmed_block_height','confirm_time','waiting_time','fee_rate','enter_block_height','no_block_confirm']"
   ]
  },
  {
   "cell_type": "markdown",
   "metadata": {},
   "source": [
    "### Data Loading"
   ]
  },
  {
   "cell_type": "code",
   "execution_count": 3,
   "metadata": {},
   "outputs": [
    {
     "data": {
      "text/html": [
       "<div>\n",
       "<style scoped>\n",
       "    .dataframe tbody tr th:only-of-type {\n",
       "        vertical-align: middle;\n",
       "    }\n",
       "\n",
       "    .dataframe tbody tr th {\n",
       "        vertical-align: top;\n",
       "    }\n",
       "\n",
       "    .dataframe thead th {\n",
       "        text-align: right;\n",
       "    }\n",
       "</style>\n",
       "<table border=\"1\" class=\"dataframe\">\n",
       "  <thead>\n",
       "    <tr style=\"text-align: right;\">\n",
       "      <th></th>\n",
       "      <th>size</th>\n",
       "      <th>weight</th>\n",
       "      <th>recieved_time</th>\n",
       "      <th>fee</th>\n",
       "      <th>confirmed_block_height</th>\n",
       "      <th>confirm_time</th>\n",
       "      <th>waiting_time</th>\n",
       "      <th>fee_rate</th>\n",
       "      <th>enter_block_height</th>\n",
       "      <th>no_block_confirm</th>\n",
       "    </tr>\n",
       "  </thead>\n",
       "  <tbody>\n",
       "    <tr>\n",
       "      <th>0</th>\n",
       "      <td>223</td>\n",
       "      <td>892</td>\n",
       "      <td>1583793568</td>\n",
       "      <td>2486</td>\n",
       "      <td>621001</td>\n",
       "      <td>1583794214</td>\n",
       "      <td>646</td>\n",
       "      <td>11.147982</td>\n",
       "      <td>621000</td>\n",
       "      <td>2</td>\n",
       "    </tr>\n",
       "    <tr>\n",
       "      <th>1</th>\n",
       "      <td>223</td>\n",
       "      <td>892</td>\n",
       "      <td>1583791819</td>\n",
       "      <td>2486</td>\n",
       "      <td>621001</td>\n",
       "      <td>1583794214</td>\n",
       "      <td>2395</td>\n",
       "      <td>11.147982</td>\n",
       "      <td>620998</td>\n",
       "      <td>4</td>\n",
       "    </tr>\n",
       "    <tr>\n",
       "      <th>2</th>\n",
       "      <td>223</td>\n",
       "      <td>892</td>\n",
       "      <td>1583793885</td>\n",
       "      <td>2486</td>\n",
       "      <td>621001</td>\n",
       "      <td>1583794214</td>\n",
       "      <td>329</td>\n",
       "      <td>11.147982</td>\n",
       "      <td>621001</td>\n",
       "      <td>1</td>\n",
       "    </tr>\n",
       "    <tr>\n",
       "      <th>3</th>\n",
       "      <td>223</td>\n",
       "      <td>892</td>\n",
       "      <td>1583793700</td>\n",
       "      <td>2486</td>\n",
       "      <td>621001</td>\n",
       "      <td>1583794214</td>\n",
       "      <td>514</td>\n",
       "      <td>11.147982</td>\n",
       "      <td>621000</td>\n",
       "      <td>2</td>\n",
       "    </tr>\n",
       "    <tr>\n",
       "      <th>4</th>\n",
       "      <td>223</td>\n",
       "      <td>892</td>\n",
       "      <td>1583791354</td>\n",
       "      <td>2486</td>\n",
       "      <td>621001</td>\n",
       "      <td>1583794214</td>\n",
       "      <td>2860</td>\n",
       "      <td>11.147982</td>\n",
       "      <td>620998</td>\n",
       "      <td>4</td>\n",
       "    </tr>\n",
       "    <tr>\n",
       "      <th>5</th>\n",
       "      <td>223</td>\n",
       "      <td>892</td>\n",
       "      <td>1583791731</td>\n",
       "      <td>2486</td>\n",
       "      <td>621001</td>\n",
       "      <td>1583794214</td>\n",
       "      <td>2483</td>\n",
       "      <td>11.147982</td>\n",
       "      <td>620998</td>\n",
       "      <td>4</td>\n",
       "    </tr>\n",
       "    <tr>\n",
       "      <th>6</th>\n",
       "      <td>371</td>\n",
       "      <td>1484</td>\n",
       "      <td>1583792024</td>\n",
       "      <td>4136</td>\n",
       "      <td>621001</td>\n",
       "      <td>1583794214</td>\n",
       "      <td>2190</td>\n",
       "      <td>11.148248</td>\n",
       "      <td>620998</td>\n",
       "      <td>4</td>\n",
       "    </tr>\n",
       "    <tr>\n",
       "      <th>7</th>\n",
       "      <td>371</td>\n",
       "      <td>1484</td>\n",
       "      <td>1583793603</td>\n",
       "      <td>4136</td>\n",
       "      <td>621001</td>\n",
       "      <td>1583794214</td>\n",
       "      <td>611</td>\n",
       "      <td>11.148248</td>\n",
       "      <td>621000</td>\n",
       "      <td>2</td>\n",
       "    </tr>\n",
       "    <tr>\n",
       "      <th>8</th>\n",
       "      <td>371</td>\n",
       "      <td>1484</td>\n",
       "      <td>1583793883</td>\n",
       "      <td>4136</td>\n",
       "      <td>621001</td>\n",
       "      <td>1583794214</td>\n",
       "      <td>331</td>\n",
       "      <td>11.148248</td>\n",
       "      <td>621001</td>\n",
       "      <td>1</td>\n",
       "    </tr>\n",
       "    <tr>\n",
       "      <th>9</th>\n",
       "      <td>371</td>\n",
       "      <td>1484</td>\n",
       "      <td>1583791921</td>\n",
       "      <td>4136</td>\n",
       "      <td>621001</td>\n",
       "      <td>1583794214</td>\n",
       "      <td>2293</td>\n",
       "      <td>11.148248</td>\n",
       "      <td>620998</td>\n",
       "      <td>4</td>\n",
       "    </tr>\n",
       "  </tbody>\n",
       "</table>\n",
       "</div>"
      ],
      "text/plain": [
       "   size  weight  recieved_time   fee  confirmed_block_height  confirm_time  \\\n",
       "0   223     892     1583793568  2486                  621001    1583794214   \n",
       "1   223     892     1583791819  2486                  621001    1583794214   \n",
       "2   223     892     1583793885  2486                  621001    1583794214   \n",
       "3   223     892     1583793700  2486                  621001    1583794214   \n",
       "4   223     892     1583791354  2486                  621001    1583794214   \n",
       "5   223     892     1583791731  2486                  621001    1583794214   \n",
       "6   371    1484     1583792024  4136                  621001    1583794214   \n",
       "7   371    1484     1583793603  4136                  621001    1583794214   \n",
       "8   371    1484     1583793883  4136                  621001    1583794214   \n",
       "9   371    1484     1583791921  4136                  621001    1583794214   \n",
       "\n",
       "   waiting_time   fee_rate  enter_block_height  no_block_confirm  \n",
       "0           646  11.147982              621000                 2  \n",
       "1          2395  11.147982              620998                 4  \n",
       "2           329  11.147982              621001                 1  \n",
       "3           514  11.147982              621000                 2  \n",
       "4          2860  11.147982              620998                 4  \n",
       "5          2483  11.147982              620998                 4  \n",
       "6          2190  11.148248              620998                 4  \n",
       "7           611  11.148248              621000                 2  \n",
       "8           331  11.148248              621001                 1  \n",
       "9          2293  11.148248              620998                 4  "
      ]
     },
     "execution_count": 3,
     "metadata": {},
     "output_type": "execute_result"
    }
   ],
   "source": [
    "d1 = pandas.read_csv('TimetxinBlock621500.csv', usecols=COLS_TO_USE, names=HEADER_NAMES)\n",
    "d2 = pandas.read_csv('TimetxinBlock622000.csv', usecols=COLS_TO_USE, names=HEADER_NAMES)\n",
    "d3 = pandas.read_csv('TimetxinBlock622500.csv', usecols=COLS_TO_USE, names=HEADER_NAMES)\n",
    "dataFrame = pandas.concat([d1, d2, d3])\n",
    "\n",
    "dataFrame.head(10)"
   ]
  },
  {
   "cell_type": "markdown",
   "metadata": {},
   "source": [
    "### Block Size"
   ]
  },
  {
   "cell_type": "code",
   "execution_count": 4,
   "metadata": {},
   "outputs": [
    {
     "name": "stdout",
     "output_type": "stream",
     "text": [
      "Mean Block Size:  2266.0\n"
     ]
    }
   ],
   "source": [
    "block_groups = dataFrame.groupby(['confirmed_block_height'])['confirmed_block_height'].count()\n",
    "mean_block_size = float(round(block_groups.mean()))\n",
    "print(\"Mean Block Size: \", mean_block_size)"
   ]
  },
  {
   "cell_type": "markdown",
   "metadata": {},
   "source": [
    "### Arrival Rates (Lambda) - Priority"
   ]
  },
  {
   "cell_type": "code",
   "execution_count": 5,
   "metadata": {},
   "outputs": [
    {
     "name": "stdout",
     "output_type": "stream",
     "text": [
      "Priority Group 1\n",
      "Transaction Count: 2035992\n",
      "Lambda: 1.9164135440894505\n",
      "\n",
      "Priority Group 2\n",
      "Transaction Count: 565752\n",
      "Lambda: 0.5319602867074807\n",
      "\n",
      "Priority Group 3\n",
      "Transaction Count: 388749\n",
      "Lambda: 0.36553531432826897\n",
      "\n",
      "Priority Group 4\n",
      "Transaction Count: 399103\n",
      "Lambda: 0.3759231995900763\n",
      "\n",
      "Sum Of Lambda:  3.1898323447152768\n"
     ]
    }
   ],
   "source": [
    "p_groups_lambda = []\n",
    "\n",
    "transaction_count = len(dataFrame)\n",
    "block_confirm_max = dataFrame['no_block_confirm'].max()\n",
    "sum_lambda = 0.0\n",
    "for i in range(len(P_GROUP_BOUNDS)+1):\n",
    "    p_transaction_count = 0.0\n",
    "    p_lambda = 0.0\n",
    "    if(i == 0):\n",
    "        p_df = dataFrame[dataFrame['no_block_confirm'].between(0, P_GROUP_BOUNDS[i])]\n",
    "        p_transaction_count = len(p_df)\n",
    "        p_lambda = float(p_transaction_count) / (float(p_df['recieved_time'].max()) - float(p_df['recieved_time'].min()))\n",
    "    elif(i == (len(P_GROUP_BOUNDS))):\n",
    "        p_df = dataFrame[dataFrame['no_block_confirm'].between((P_GROUP_BOUNDS[i-1]+1), block_confirm_max)]\n",
    "        p_transaction_count = len(p_df)\n",
    "        p_lambda = float(p_transaction_count) / (float(p_df['recieved_time'].max()) - float(p_df['recieved_time'].min()))\n",
    "    else:\n",
    "        p_df = dataFrame[dataFrame['no_block_confirm'].between((P_GROUP_BOUNDS[i-1]+1), P_GROUP_BOUNDS[i])]\n",
    "        p_transaction_count = len(p_df)\n",
    "        p_lambda = float(p_transaction_count) / (float(p_df['recieved_time'].max()) - float(p_df['recieved_time'].min()))\n",
    "\n",
    "    p_groups_lambda.append(p_lambda)\n",
    "    sum_lambda += p_lambda\n",
    "    print(\"Priority Group \" + str(i+1))\n",
    "    print(\"Transaction Count: \" + str(p_transaction_count))\n",
    "    print(\"Lambda: \" + str(p_lambda) + \"\\n\")\n",
    "\n",
    "print(\"Sum Of Lambda: \", sum_lambda)"
   ]
  },
  {
   "cell_type": "markdown",
   "metadata": {},
   "source": [
    "### Service Rate (Mu)"
   ]
  },
  {
   "cell_type": "code",
   "execution_count": 15,
   "metadata": {},
   "outputs": [
    {
     "name": "stdout",
     "output_type": "stream",
     "text": [
      "Mu:  0.0016666666666666668\n"
     ]
    }
   ],
   "source": [
    "service_time = 600\n",
    "mu = 1/service_time\n",
    "#mu = (1/service_time)*mean_block_size\n",
    "#mu = mean_block_size / service_time\n",
    "print(\"Mu: \", mu)"
   ]
  },
  {
   "cell_type": "markdown",
   "metadata": {},
   "source": [
    "### Validation Of Z Using Newton Method (Mine Vs SciPy)"
   ]
  },
  {
   "cell_type": "code",
   "execution_count": 16,
   "metadata": {},
   "outputs": [
    {
     "name": "stdout",
     "output_type": "stream",
     "text": [
      "Priority Group 1\n",
      "My Z: \n",
      "0.9993147806098512\n",
      "SciPy Z: \n",
      "0.9993147806474754\n",
      "\n",
      "Priority Group 2\n",
      "My Z: \n",
      "0.9995855087963951\n",
      "SciPy Z: \n",
      "0.9995855087969598\n",
      "\n",
      "Priority Group 3\n",
      "My Z: \n",
      "0.9997263332086644\n",
      "SciPy Z: \n",
      "0.9997263332086649\n",
      "\n",
      "Priority Group 4\n",
      "My Z: \n",
      "0.9998465892552025\n",
      "SciPy Z: \n",
      "0.999846589295516\n",
      "\n"
     ]
    }
   ],
   "source": [
    "my_p_group_z = []\n",
    "sciPy_p_group_z = []\n",
    "lambda_sum = 0.0\n",
    "\n",
    "def NewtonMethod(lam, m_u, block_size, x0, epsilon):\n",
    "    fx = lambda x: lam*(1 - x) - m_u*x*(1 - x**block_size)\n",
    "    dfx = lambda x: m_u*(block_size*x**block_size + x**block_size - 1) - lam\n",
    "    while True:\n",
    "        x1 = x0 - fx(x0) / dfx(x0)\n",
    "        t = abs(x1 - x0)\n",
    "        if t < epsilon:\n",
    "            break\n",
    "        x0 = x1\n",
    "    return x0\n",
    "\n",
    "def SciPyNewton(lam, m_u, block_size, x0, epsilon, max_iteration):\n",
    "    fx = lambda x: lam*(1 - x) - m_u*x*(1 - x**block_size)\n",
    "    #dfx = lambda x: m_u*(block_size*x**block_size + x**block_size - 1) - lam\n",
    "    return newton(fx, x0, fprime=None, args=(), tol=epsilon, maxiter=max_iteration, fprime2=None)\n",
    "\n",
    "for i in range(len(p_groups_lambda)):\n",
    "    lambda_sum += p_groups_lambda[i]\n",
    "    my_p_group_z.append(NewtonMethod(lambda_sum, mu, mean_block_size, 0, 1e-10))\n",
    "    sciPy_p_group_z.append(SciPyNewton(lambda_sum, mu, mean_block_size, 0, 1e-10, 500))\n",
    "\n",
    "for i in range(len(sciPy_p_group_z)):\n",
    "    print(\"Priority Group \" + str(i+1))\n",
    "    print(\"My Z: \\n\" + str(my_p_group_z[i]))\n",
    "    print(\"SciPy Z: \\n\" + str(sciPy_p_group_z[i]) + \"\\n\")"
   ]
  },
  {
   "cell_type": "markdown",
   "metadata": {},
   "source": [
    "### Wait Times Using Z"
   ]
  },
  {
   "cell_type": "code",
   "execution_count": 17,
   "metadata": {},
   "outputs": [
    {
     "name": "stdout",
     "output_type": "stream",
     "text": [
      "Priority Group 1\n",
      "Z:  0.9993147806098512\n",
      "Average Transaction In Queue (L):  1458.3866057743926\n",
      "Average Response Time In Queue (W): 760.9978599203225\n",
      "\n",
      "Priority Group 2\n",
      "Z:  0.9995855087963951\n",
      "Average Transaction In Queue (L):  953.2098288489833\n",
      "Average Response Time In Queue (W): 1791.881560837535\n",
      "\n",
      "Priority Group 3\n",
      "Z:  0.9997263332086644\n",
      "Average Transaction In Queue (L):  2699.8688963034715\n",
      "Average Response Time In Queue (W): 7386.068569776693\n",
      "\n",
      "Priority Group 4\n",
      "Z:  0.9998465892552025\n",
      "Average Transaction In Queue (L):  3817.579347463318\n",
      "Average Response Time In Queue (W): 10155.210829302845\n",
      "\n"
     ]
    }
   ],
   "source": [
    "prev_transaction_in_queue = 0.0\n",
    "p_group_response_time = []\n",
    "\n",
    "for i in range(len(p_groups_lambda)):\n",
    "    transaction_in_queue = my_p_group_z[i] / (1 - my_p_group_z[i]) - prev_transaction_in_queue\n",
    "    response_time  = transaction_in_queue / p_groups_lambda[i]\n",
    "\n",
    "    prev_transaction_in_queue = transaction_in_queue\n",
    "\n",
    "    p_group_response_time.append(response_time)\n",
    "\n",
    "    print(\"Priority Group \" + str(i+1))\n",
    "    print(\"Z: \", my_p_group_z[i])\n",
    "    print(\"Average Transaction In Queue (L): \", transaction_in_queue)\n",
    "    print(\"Average Response Time In Queue (W): \" + str(response_time) + \"\\n\")"
   ]
  }
 ],
 "metadata": {
  "interpreter": {
   "hash": "b89b5cfaba6639976dc87ff2fec6d58faec662063367e2c229c520fe71072417"
  },
  "kernelspec": {
   "display_name": "Python 3.10.4 64-bit",
   "language": "python",
   "name": "python3"
  },
  "language_info": {
   "codemirror_mode": {
    "name": "ipython",
    "version": 3
   },
   "file_extension": ".py",
   "mimetype": "text/x-python",
   "name": "python",
   "nbconvert_exporter": "python",
   "pygments_lexer": "ipython3",
   "version": "3.10.4"
  },
  "orig_nbformat": 4
 },
 "nbformat": 4,
 "nbformat_minor": 2
}
