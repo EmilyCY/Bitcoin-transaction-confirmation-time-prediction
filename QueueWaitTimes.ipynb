{
 "cells": [
  {
   "cell_type": "markdown",
   "metadata": {},
   "source": [
    "# Estimating Queue Priority Wait Times\n",
    "\n",
    "https://dl.acm.org/doi/10.1145/3427921.3450249"
   ]
  },
  {
   "cell_type": "code",
   "execution_count": 1,
   "metadata": {},
   "outputs": [],
   "source": [
    "import pandas\n",
    "from scipy.optimize import newton"
   ]
  },
  {
   "cell_type": "code",
   "execution_count": 2,
   "metadata": {},
   "outputs": [],
   "source": [
    "P_GROUP_BOUNDS = [1,3,10]\n",
    "\n",
    "COLS_TO_USE = [4,5,6,9,10,12,13,14,15,16]\n",
    "HEADER_NAMES = ['size','weight','recieved_time','fee','confirmed_block_height','confirm_time','waiting_time','fee_rate','enter_block_height','no_block_confirm']"
   ]
  },
  {
   "cell_type": "markdown",
   "metadata": {},
   "source": [
    "### Data Loading"
   ]
  },
  {
   "cell_type": "code",
   "execution_count": 3,
   "metadata": {},
   "outputs": [
    {
     "data": {
      "text/html": [
       "<div>\n",
       "<style scoped>\n",
       "    .dataframe tbody tr th:only-of-type {\n",
       "        vertical-align: middle;\n",
       "    }\n",
       "\n",
       "    .dataframe tbody tr th {\n",
       "        vertical-align: top;\n",
       "    }\n",
       "\n",
       "    .dataframe thead th {\n",
       "        text-align: right;\n",
       "    }\n",
       "</style>\n",
       "<table border=\"1\" class=\"dataframe\">\n",
       "  <thead>\n",
       "    <tr style=\"text-align: right;\">\n",
       "      <th></th>\n",
       "      <th>size</th>\n",
       "      <th>weight</th>\n",
       "      <th>recieved_time</th>\n",
       "      <th>fee</th>\n",
       "      <th>confirmed_block_height</th>\n",
       "      <th>confirm_time</th>\n",
       "      <th>waiting_time</th>\n",
       "      <th>fee_rate</th>\n",
       "      <th>enter_block_height</th>\n",
       "      <th>no_block_confirm</th>\n",
       "    </tr>\n",
       "  </thead>\n",
       "  <tbody>\n",
       "    <tr>\n",
       "      <th>68059</th>\n",
       "      <td>1220</td>\n",
       "      <td>2258</td>\n",
       "      <td>1583756823</td>\n",
       "      <td>567</td>\n",
       "      <td>621031</td>\n",
       "      <td>1583810262</td>\n",
       "      <td>53439</td>\n",
       "      <td>1.004429</td>\n",
       "      <td>620943</td>\n",
       "      <td>89</td>\n",
       "    </tr>\n",
       "    <tr>\n",
       "      <th>67841</th>\n",
       "      <td>284</td>\n",
       "      <td>806</td>\n",
       "      <td>1583756865</td>\n",
       "      <td>202</td>\n",
       "      <td>621031</td>\n",
       "      <td>1583810262</td>\n",
       "      <td>53397</td>\n",
       "      <td>1.002481</td>\n",
       "      <td>620943</td>\n",
       "      <td>89</td>\n",
       "    </tr>\n",
       "    <tr>\n",
       "      <th>68124</th>\n",
       "      <td>926</td>\n",
       "      <td>1736</td>\n",
       "      <td>1583756869</td>\n",
       "      <td>436</td>\n",
       "      <td>621031</td>\n",
       "      <td>1583810262</td>\n",
       "      <td>53393</td>\n",
       "      <td>1.004608</td>\n",
       "      <td>620943</td>\n",
       "      <td>89</td>\n",
       "    </tr>\n",
       "    <tr>\n",
       "      <th>16126</th>\n",
       "      <td>420</td>\n",
       "      <td>1032</td>\n",
       "      <td>1583756885</td>\n",
       "      <td>258</td>\n",
       "      <td>621006</td>\n",
       "      <td>1583796952</td>\n",
       "      <td>40067</td>\n",
       "      <td>1.000000</td>\n",
       "      <td>620943</td>\n",
       "      <td>64</td>\n",
       "    </tr>\n",
       "    <tr>\n",
       "      <th>10295</th>\n",
       "      <td>420</td>\n",
       "      <td>1032</td>\n",
       "      <td>1583756899</td>\n",
       "      <td>258</td>\n",
       "      <td>621004</td>\n",
       "      <td>1583796307</td>\n",
       "      <td>39408</td>\n",
       "      <td>1.000000</td>\n",
       "      <td>620943</td>\n",
       "      <td>62</td>\n",
       "    </tr>\n",
       "    <tr>\n",
       "      <th>67965</th>\n",
       "      <td>247</td>\n",
       "      <td>661</td>\n",
       "      <td>1583756901</td>\n",
       "      <td>166</td>\n",
       "      <td>621031</td>\n",
       "      <td>1583810262</td>\n",
       "      <td>53361</td>\n",
       "      <td>1.004539</td>\n",
       "      <td>620943</td>\n",
       "      <td>89</td>\n",
       "    </tr>\n",
       "    <tr>\n",
       "      <th>68119</th>\n",
       "      <td>667</td>\n",
       "      <td>2668</td>\n",
       "      <td>1583756912</td>\n",
       "      <td>670</td>\n",
       "      <td>621031</td>\n",
       "      <td>1583810262</td>\n",
       "      <td>53350</td>\n",
       "      <td>1.004498</td>\n",
       "      <td>620943</td>\n",
       "      <td>89</td>\n",
       "    </tr>\n",
       "    <tr>\n",
       "      <th>67559</th>\n",
       "      <td>283</td>\n",
       "      <td>805</td>\n",
       "      <td>1583756927</td>\n",
       "      <td>202</td>\n",
       "      <td>621031</td>\n",
       "      <td>1583810262</td>\n",
       "      <td>53335</td>\n",
       "      <td>1.003727</td>\n",
       "      <td>620943</td>\n",
       "      <td>89</td>\n",
       "    </tr>\n",
       "    <tr>\n",
       "      <th>67654</th>\n",
       "      <td>247</td>\n",
       "      <td>661</td>\n",
       "      <td>1583756972</td>\n",
       "      <td>166</td>\n",
       "      <td>621031</td>\n",
       "      <td>1583810262</td>\n",
       "      <td>53290</td>\n",
       "      <td>1.004539</td>\n",
       "      <td>620943</td>\n",
       "      <td>89</td>\n",
       "    </tr>\n",
       "    <tr>\n",
       "      <th>67945</th>\n",
       "      <td>283</td>\n",
       "      <td>805</td>\n",
       "      <td>1583757002</td>\n",
       "      <td>202</td>\n",
       "      <td>621031</td>\n",
       "      <td>1583810262</td>\n",
       "      <td>53260</td>\n",
       "      <td>1.003727</td>\n",
       "      <td>620943</td>\n",
       "      <td>89</td>\n",
       "    </tr>\n",
       "  </tbody>\n",
       "</table>\n",
       "</div>"
      ],
      "text/plain": [
       "       size  weight  recieved_time  fee  confirmed_block_height  confirm_time  \\\n",
       "68059  1220    2258     1583756823  567                  621031    1583810262   \n",
       "67841   284     806     1583756865  202                  621031    1583810262   \n",
       "68124   926    1736     1583756869  436                  621031    1583810262   \n",
       "16126   420    1032     1583756885  258                  621006    1583796952   \n",
       "10295   420    1032     1583756899  258                  621004    1583796307   \n",
       "67965   247     661     1583756901  166                  621031    1583810262   \n",
       "68119   667    2668     1583756912  670                  621031    1583810262   \n",
       "67559   283     805     1583756927  202                  621031    1583810262   \n",
       "67654   247     661     1583756972  166                  621031    1583810262   \n",
       "67945   283     805     1583757002  202                  621031    1583810262   \n",
       "\n",
       "       waiting_time  fee_rate  enter_block_height  no_block_confirm  \n",
       "68059         53439  1.004429              620943                89  \n",
       "67841         53397  1.002481              620943                89  \n",
       "68124         53393  1.004608              620943                89  \n",
       "16126         40067  1.000000              620943                64  \n",
       "10295         39408  1.000000              620943                62  \n",
       "67965         53361  1.004539              620943                89  \n",
       "68119         53350  1.004498              620943                89  \n",
       "67559         53335  1.003727              620943                89  \n",
       "67654         53290  1.004539              620943                89  \n",
       "67945         53260  1.003727              620943                89  "
      ]
     },
     "execution_count": 3,
     "metadata": {},
     "output_type": "execute_result"
    }
   ],
   "source": [
    "d1 = pandas.read_csv('TimetxinBlock621500.csv', usecols=COLS_TO_USE, names=HEADER_NAMES)\n",
    "d2 = pandas.read_csv('TimetxinBlock622000.csv', usecols=COLS_TO_USE, names=HEADER_NAMES)\n",
    "d3 = pandas.read_csv('TimetxinBlock622500.csv', usecols=COLS_TO_USE, names=HEADER_NAMES)\n",
    "dataFrame = pandas.concat([d1, d2, d3])\n",
    "dataFrame = dataFrame.sort_values(by=['recieved_time'])\n",
    "dataFrame.head(10)"
   ]
  },
  {
   "cell_type": "markdown",
   "metadata": {},
   "source": [
    "### Block Size"
   ]
  },
  {
   "cell_type": "code",
   "execution_count": 4,
   "metadata": {},
   "outputs": [
    {
     "name": "stdout",
     "output_type": "stream",
     "text": [
      "Mean Block Size:  2266.0\n"
     ]
    }
   ],
   "source": [
    "block_groups = dataFrame.groupby(['confirmed_block_height'])['confirmed_block_height'].count()\n",
    "mean_block_size = float(round(block_groups.mean()))\n",
    "print(\"Mean Block Size: \", mean_block_size)"
   ]
  },
  {
   "cell_type": "markdown",
   "metadata": {},
   "source": [
    "### Fee Rate Priority Range"
   ]
  },
  {
   "cell_type": "code",
   "execution_count": 5,
   "metadata": {},
   "outputs": [
    {
     "name": "stdout",
     "output_type": "stream",
     "text": [
      "one block waited ration:  [30.17718371153248, 18.529411764705888, 5.0]\n"
     ]
    }
   ],
   "source": [
    "def calculate_feerate_for_priority_groups(data, upper_boundary):\n",
    "    feerate_range = []\n",
    "    transaction_counts = 0\n",
    "    for i in range(len(P_GROUP_BOUNDS)):\n",
    "        transaction_counts = len(data[data['no_block_confirm'] <= upper_boundary[i]])\n",
    "        boundary = data['fee_rate'].nlargest(transaction_counts).iloc[-1]\n",
    "        feerate_range.append(boundary)\n",
    "    return feerate_range\n",
    "            \n",
    "p_groups_feerate_range = calculate_feerate_for_priority_groups(dataFrame, P_GROUP_BOUNDS)\n",
    "print(\"one block waited ration: \", p_groups_feerate_range)"
   ]
  },
  {
   "cell_type": "markdown",
   "metadata": {},
   "source": [
    "### Arrival Rates (Lambda) - Priority"
   ]
  },
  {
   "cell_type": "code",
   "execution_count": 7,
   "metadata": {},
   "outputs": [
    {
     "name": "stdout",
     "output_type": "stream",
     "text": [
      "Priority Group 1\n",
      "Transaction Count:  2035992\n",
      "Feerate Min:  30.17718371153248\n",
      "Feerate Max:  52380.95238095238\n",
      "Lambda: 1.8686986243533874\n",
      "\n",
      "Priority Group 2\n",
      "Transaction Count:  565762\n",
      "Feerate Min:  18.529411764705888\n",
      "Feerate Max:  30.17718371153248\n",
      "Lambda: 0.5165653492665521\n",
      "\n",
      "Priority Group 3\n",
      "Transaction Count:  389945\n",
      "Feerate Min:  5.0\n",
      "Feerate Max:  18.529411764705888\n",
      "Lambda: 0.3554804585797738\n",
      "\n",
      "Priority Group 4\n",
      "Transaction Count:  397918\n",
      "Feerate Min:  0.907563025210084\n",
      "Feerate Max:  4.998487140695915\n",
      "Lambda: 0.3619598250955343\n",
      "\n",
      "Sum Of Lambda:  3.1027042572952475\n"
     ]
    }
   ],
   "source": [
    "p_groups_lambda = []\n",
    "transaction_count = len(dataFrame)\n",
    "\n",
    "for i in range(len(p_groups_feerate_range)+1):\n",
    "    p_transaction_count = 0.0\n",
    "    p_lambda = 0.0\n",
    "    p_feerate_min = 0.0\n",
    "    p_feerate_max = 0.0\n",
    "    if(i == 0):\n",
    "        p_df = dataFrame[dataFrame['fee_rate'] >= p_groups_feerate_range[0]]\n",
    "        p_transaction_count = len(p_df)\n",
    "        p_feerate_min = float(p_df['fee_rate'].min())\n",
    "        p_feerate_max = float(p_df['fee_rate'].max())\n",
    "        p_lambda = float(p_transaction_count) / (float(p_df['recieved_time'].max()) - float(p_df['recieved_time'].min()))\n",
    "    elif(i == (len(p_groups_feerate_range))):\n",
    "        p_df = dataFrame[dataFrame['fee_rate'] < p_groups_feerate_range[i-1]]\n",
    "        p_transaction_count = len(p_df)\n",
    "        p_feerate_min = float(p_df['fee_rate'].min())\n",
    "        p_feerate_max = float(p_df['fee_rate'].max())\n",
    "        p_lambda = float(p_transaction_count) / (float(p_df['recieved_time'].max()) - float(p_df['recieved_time'].min()))\n",
    "    else:\n",
    "        p_df = dataFrame[(dataFrame['fee_rate'] <= p_groups_feerate_range[i-1]) & (dataFrame['fee_rate'] >= p_groups_feerate_range[i])]\n",
    "        p_transaction_count = len(p_df)\n",
    "        p_feerate_min = float(p_df['fee_rate'].min())\n",
    "        p_feerate_max = float(p_df['fee_rate'].max())\n",
    "        p_lambda = float(p_transaction_count) / (float(p_df['recieved_time'].max()) - float(p_df['recieved_time'].min()))\n",
    "\n",
    "    p_groups_lambda.append(p_lambda)\n",
    "\n",
    "    print(\"Priority Group \" + str(i+1))\n",
    "    print(\"Transaction Count: \", p_transaction_count)\n",
    "    print(\"Feerate Min: \", p_feerate_min)\n",
    "    print(\"Feerate Max: \", p_feerate_max)\n",
    "    print(\"Lambda: \" + str(p_lambda) + \"\\n\")\n",
    "\n",
    "print(\"Sum Of Lambda: \", sum(p_groups_lambda))"
   ]
  },
  {
   "cell_type": "markdown",
   "metadata": {},
   "source": [
    "### Service Rate (Mu)"
   ]
  },
  {
   "cell_type": "code",
   "execution_count": 8,
   "metadata": {},
   "outputs": [
    {
     "name": "stdout",
     "output_type": "stream",
     "text": [
      "Mu:  3.776666666666667\n"
     ]
    }
   ],
   "source": [
    "service_time = 600\n",
    "#mu = 1/service_time\n",
    "mu = (1/service_time)*mean_block_size\n",
    "#mu = mean_block_size / service_time\n",
    "print(\"Mu: \", mu)"
   ]
  },
  {
   "cell_type": "markdown",
   "metadata": {},
   "source": [
    "### Validation Of Z Using Newton Method (Mine Vs SciPy)"
   ]
  },
  {
   "cell_type": "code",
   "execution_count": 9,
   "metadata": {},
   "outputs": [
    {
     "name": "stdout",
     "output_type": "stream",
     "text": [
      "Priority Group 1\n",
      "My Z: \n",
      "0.3310146514922393\n",
      "SciPy Z: \n",
      "0.3310146514922393\n",
      "\n",
      "Priority Group 2\n",
      "My Z: \n",
      "0.38709685533055516\n",
      "SciPy Z: \n",
      "0.3870968553305551\n",
      "\n",
      "Priority Group 3\n",
      "My Z: \n",
      "0.42052655427496827\n",
      "SciPy Z: \n",
      "0.42052655427496827\n",
      "\n",
      "Priority Group 4\n",
      "My Z: \n",
      "0.4510156948345448\n",
      "SciPy Z: \n",
      "0.45101569483454484\n",
      "\n"
     ]
    }
   ],
   "source": [
    "my_p_group_z = []\n",
    "sciPy_p_group_z = []\n",
    "lambda_sum = 0.0\n",
    "\n",
    "def NewtonMethod(lam, m_u, block_size, x0, epsilon):\n",
    "    fx = lambda x: lam*(1 - x) - m_u*x*(1 - x**block_size)\n",
    "    dfx = lambda x: m_u*(block_size*x**block_size + x**block_size - 1) - lam\n",
    "    while True:\n",
    "        x1 = x0 - fx(x0) / dfx(x0)\n",
    "        t = abs(x1 - x0)\n",
    "        if t < epsilon:\n",
    "            break\n",
    "        x0 = x1\n",
    "    return x0\n",
    "\n",
    "def SciPyNewton(lam, m_u, block_size, x0, epsilon, max_iteration):\n",
    "    fx = lambda x: lam*(1 - x) - m_u*x*(1 - x**block_size)\n",
    "    #dfx = lambda x: m_u*(block_size*x**block_size + x**block_size - 1) - lam\n",
    "    return newton(fx, x0, fprime=None, args=(), tol=epsilon, maxiter=max_iteration, fprime2=None)\n",
    "\n",
    "for i in range(len(p_groups_lambda)):\n",
    "    lambda_sum += p_groups_lambda[i]\n",
    "    my_p_group_z.append(NewtonMethod(lambda_sum, mu, mean_block_size, 0, 1e-10))\n",
    "    sciPy_p_group_z.append(SciPyNewton(lambda_sum, mu, mean_block_size, 0, 1e-10, 500))\n",
    "\n",
    "for i in range(len(my_p_group_z)):\n",
    "    print(\"Priority Group \" + str(i+1))\n",
    "    print(\"My Z: \\n\" + str(my_p_group_z[i]))\n",
    "    print(\"SciPy Z: \\n\" + str(sciPy_p_group_z[i]) + \"\\n\")\n",
    "    "
   ]
  },
  {
   "cell_type": "markdown",
   "metadata": {},
   "source": [
    "### Wait Times Using Z"
   ]
  },
  {
   "cell_type": "code",
   "execution_count": 10,
   "metadata": {},
   "outputs": [
    {
     "name": "stdout",
     "output_type": "stream",
     "text": [
      "Priority Group 1\n",
      "Z:  0.3310146514922393\n",
      "Average Transaction In Queue (L):  0.49480104793117047\n",
      "Average Response Time In Queue (W): 0.26478375992939096\n",
      "\n",
      "Priority Group 2\n",
      "Z:  0.38709685533055516\n",
      "Average Transaction In Queue (L):  0.1367781154280368\n",
      "Average Response Time In Queue (W): 0.2647837599293911\n",
      "\n",
      "Priority Group 3\n",
      "Z:  0.42052655427496827\n",
      "Average Transaction In Queue (L):  0.5889265003353472\n",
      "Average Response Time In Queue (W): 1.6567056954079673\n",
      "\n",
      "Priority Group 4\n",
      "Z:  0.4510156948345448\n",
      "Average Transaction In Queue (L):  0.23261919886021676\n",
      "Average Response Time In Queue (W): 0.6426657952959838\n",
      "\n"
     ]
    }
   ],
   "source": [
    "prev_transaction_in_queue = 0.0\n",
    "p_group_response_time = []\n",
    "\n",
    "for i in range(len(p_groups_lambda)):\n",
    "    transaction_in_queue = my_p_group_z[i] / (1 - my_p_group_z[i]) - prev_transaction_in_queue # L = z / (1 - z) - (Previous L)\n",
    "    response_time  = transaction_in_queue / p_groups_lambda[i] # W = L / Lambda\n",
    "\n",
    "    prev_transaction_in_queue = transaction_in_queue\n",
    "\n",
    "    p_group_response_time.append(response_time)\n",
    "\n",
    "    print(\"Priority Group \" + str(i+1))\n",
    "    print(\"Z: \", my_p_group_z[i])\n",
    "    print(\"Average Transaction In Queue (L): \", transaction_in_queue)\n",
    "    print(\"Average Response Time In Queue (W): \" + str(response_time) + \"\\n\")"
   ]
  }
 ],
 "metadata": {
  "interpreter": {
   "hash": "26de051ba29f2982a8de78e945f0abaf191376122a1563185a90213a26c5da77"
  },
  "kernelspec": {
   "display_name": "Python 3.10.4 64-bit",
   "language": "python",
   "name": "python3"
  },
  "language_info": {
   "codemirror_mode": {
    "name": "ipython",
    "version": 3
   },
   "file_extension": ".py",
   "mimetype": "text/x-python",
   "name": "python",
   "nbconvert_exporter": "python",
   "pygments_lexer": "ipython3",
   "version": "3.10.4"
  },
  "orig_nbformat": 4
 },
 "nbformat": 4,
 "nbformat_minor": 2
}
