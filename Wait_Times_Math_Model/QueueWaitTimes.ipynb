{
 "cells": [
  {
   "cell_type": "markdown",
   "metadata": {},
   "source": [
    "# Estimating Queue Priority Wait Times\n",
    "\n",
    "https://dl.acm.org/doi/10.1145/3427921.3450249"
   ]
  },
  {
   "cell_type": "code",
   "execution_count": 59,
   "metadata": {},
   "outputs": [],
   "source": [
    "import pandas\n",
    "from scipy.optimize import newton"
   ]
  },
  {
   "cell_type": "code",
   "execution_count": 58,
   "metadata": {},
   "outputs": [],
   "source": [
    "P_GROUP_BOUNDS = [1,3,10]\n",
    "\n",
    "COLS_TO_USE = [4,5,6,9,10,12,13,14,15,16]\n",
    "HEADER_NAMES = ['size','weight','received_time','fee','confirmed_block_height','confirm_time','waiting_time','fee_rate','enter_block_height','no_block_confirm']"
   ]
  },
  {
   "cell_type": "markdown",
   "metadata": {},
   "source": [
    "### Data Loading"
   ]
  },
  {
   "cell_type": "code",
   "execution_count": 34,
   "metadata": {},
   "outputs": [
    {
     "name": "stdout",
     "output_type": "stream",
     "text": [
      "Transaction Count:  3389521\n"
     ]
    }
   ],
   "source": [
    "d1 = pandas.read_csv('TimetxinBlock621500.csv', usecols=COLS_TO_USE, names=HEADER_NAMES)\n",
    "d2 = pandas.read_csv('TimetxinBlock622000.csv', usecols=COLS_TO_USE, names=HEADER_NAMES)\n",
    "d3 = pandas.read_csv('TimetxinBlock622500.csv', usecols=COLS_TO_USE, names=HEADER_NAMES)\n",
    "dataFrame = pandas.concat([d1, d2, d3])\n",
    "\n",
    "dataFrame = dataFrame[dataFrame['waiting_time'] >= 0] # Remove any rows with negative values for waiting_time\n",
    "print(\"Transaction Count: \", len(dataFrame))\n",
    "#dataFrame.head(10)"
   ]
  },
  {
   "cell_type": "markdown",
   "metadata": {},
   "source": [
    "### Block Size"
   ]
  },
  {
   "cell_type": "code",
   "execution_count": 57,
   "metadata": {},
   "outputs": [
    {
     "name": "stdout",
     "output_type": "stream",
     "text": [
      "Mean Block Size:  2266.0\n"
     ]
    }
   ],
   "source": [
    "block_groups = dataFrame.groupby(['confirmed_block_height'])['confirmed_block_height'].count()\n",
    "mean_block_size = float(round(block_groups.mean()))\n",
    "print(\"Mean Block Size: \", mean_block_size)"
   ]
  },
  {
   "cell_type": "markdown",
   "metadata": {},
   "source": [
    "### Fee Rate Priority Range"
   ]
  },
  {
   "cell_type": "code",
   "execution_count": 56,
   "metadata": {},
   "outputs": [
    {
     "name": "stdout",
     "output_type": "stream",
     "text": [
      "Fee Rate Priority Range:  [52380.95238095238, 30.175438596491237, 18.529411764705888, 5.0, 0.0]\n"
     ]
    }
   ],
   "source": [
    "def calculate_feerate_for_priority_groups(data, upper_boundary):\n",
    "    feerate_range = []\n",
    "    transaction_counts = 0\n",
    "    feerate_range.append(data['fee_rate'].max())\n",
    "    for i in range(len(P_GROUP_BOUNDS)):\n",
    "        transaction_counts = len(data[data['no_block_confirm'] <= upper_boundary[i]])\n",
    "        #boundary = data['fee_rate'].nlargest(transaction_counts).iloc[-1]\n",
    "        boundary = data['fee_rate'].tail(transaction_counts).iloc[0]\n",
    "        feerate_range.append(boundary)\n",
    "    return feerate_range\n",
    "\n",
    "p_groups_feerate_range = calculate_feerate_for_priority_groups(dataFrame.sort_values('fee_rate'), P_GROUP_BOUNDS)\n",
    "p_groups_feerate_range.append(0.0)\n",
    "print(\"Fee Rate Priority Range: \", p_groups_feerate_range)"
   ]
  },
  {
   "cell_type": "markdown",
   "metadata": {},
   "source": [
    "### Arrival Rates (Lambda) - Priority"
   ]
  },
  {
   "cell_type": "code",
   "execution_count": 64,
   "metadata": {},
   "outputs": [
    {
     "name": "stdout",
     "output_type": "stream",
     "text": [
      "Priority Group 1\n",
      "Transaction Count: 2035967, Raw Wait Time (Mean): 2474.0209728350214\n",
      "Feerate Min: 30.175580221997983, Max: 52380.95238095238\n",
      "Lambda: 1.851985231178986\n",
      "Priority Group 2\n",
      "Transaction Count: 565691, Raw Wait Time (Mean): 6085.267361510082\n",
      "Feerate Min: 18.52950075642965, Max: 30.175438596491237\n",
      "Lambda: 0.5145718852078014\n",
      "Priority Group 3\n",
      "Transaction Count: 385863, Raw Wait Time (Mean): 9987.642969136714\n",
      "Feerate Min: 5.000028548752705, Max: 18.529411764705888\n",
      "Lambda: 0.3509941847085032\n",
      "Priority Group 4\n",
      "Transaction Count: 402000, Raw Wait Time (Mean): 11979.932554726369\n",
      "Feerate Min: 0.907563025210084, Max: 5.0\n",
      "Lambda: 0.36567295193583804\n",
      "\n",
      "Sum Of All Lambda:  3.083224253031129\n"
     ]
    }
   ],
   "source": [
    "raw_wait_times = []\n",
    "p_groups_lambda = []\n",
    "transaction_count = len(dataFrame)\n",
    "received_time_max = dataFrame['received_time'].max()\n",
    "received_time_min = dataFrame['received_time'].min()\n",
    "\n",
    "for current, next in zip(p_groups_feerate_range,p_groups_feerate_range[1:]):\n",
    "    p_df = dataFrame[(dataFrame['fee_rate'] <= current) & (dataFrame['fee_rate'] > next)]\n",
    "    p_transaction_count = len(p_df)\n",
    "    #p_lambda = float(p_transaction_count) / (float(p_df['received_time'].max()) - float(p_df['received_time'].min()))\n",
    "    p_lambda = float(p_transaction_count) / (received_time_max - received_time_min)\n",
    "    p_groups_lambda.append(p_lambda)\n",
    "    raw_wait_times.append(p_df['waiting_time'].mean())\n",
    "\n",
    "    print(\"Priority Group \" + str(p_groups_feerate_range.index(current)+1))\n",
    "    print(\"Transaction Count: \" + str(p_transaction_count) + \", Raw Wait Time (Mean): \" + str(p_df['waiting_time'].mean()))\n",
    "    print(\"Feerate Min: \" + str(float(p_df['fee_rate'].min())) + \", Max: \" + str(float(p_df['fee_rate'].max())))\n",
    "    print(\"Lambda: \" + str(p_lambda))\n",
    "    \n",
    "print(\"\\nSum Of All Lambda: \", sum(p_groups_lambda))"
   ]
  },
  {
   "cell_type": "markdown",
   "metadata": {},
   "source": [
    "### Service Rate (Mu)"
   ]
  },
  {
   "cell_type": "code",
   "execution_count": 54,
   "metadata": {},
   "outputs": [
    {
     "name": "stdout",
     "output_type": "stream",
     "text": [
      "Mu:  0.0016666666666666668\n"
     ]
    }
   ],
   "source": [
    "service_time = 600\n",
    "mu = 1/service_time # = 0.0016666666666666668\n",
    "#mu = (1/service_time)*mean_block_size # = 3.776666666666667\n",
    "print(\"Mu: \", mu)"
   ]
  },
  {
   "cell_type": "markdown",
   "metadata": {},
   "source": [
    "### Validation Of Z Using Newton Method (Mine Vs SciPy)"
   ]
  },
  {
   "cell_type": "code",
   "execution_count": 53,
   "metadata": {},
   "outputs": [
    {
     "name": "stdout",
     "output_type": "stream",
     "text": [
      "Priority Group 1\n",
      "My Z: 0.9992742750913941, SciPy Z: 0.9992742751058932\n",
      "Priority Group 2\n",
      "My Z: 0.9995497987137135, SciPy Z: 0.9995497987138171\n",
      "Priority Group 3\n",
      "My Z: 0.9996918411807911, SciPy Z: 0.9996918412628326\n",
      "Priority Group 4\n",
      "My Z: 0.9998145619120352, SciPy Z: 0.9998145619140734\n"
     ]
    }
   ],
   "source": [
    "my_p_group_z = []\n",
    "sciPy_p_group_z = []\n",
    "lambda_sum = 0.0\n",
    "\n",
    "def NewtonMethod(lam, m_u, block_size, x0, epsilon):\n",
    "    fx = lambda x: lam*(1 - x) - m_u*x*(1 - x**block_size)\n",
    "    dfx = lambda x: m_u*(block_size*x**block_size + x**block_size - 1) - lam\n",
    "    while True:\n",
    "        x1 = x0 - fx(x0) / dfx(x0)\n",
    "        t = abs(x1 - x0)\n",
    "        if t < epsilon:\n",
    "            break\n",
    "        x0 = x1\n",
    "    return x0\n",
    "\n",
    "def SciPyNewton(lam, m_u, block_size, x0, epsilon, max_iteration):\n",
    "    fx = lambda x: lam*(1 - x) - m_u*x*(1 - x**block_size)\n",
    "    #dfx = lambda x: m_u*(block_size*x**block_size + x**block_size - 1) - lam\n",
    "    #return newton(fx, x0, fprime=dfx, args=(), tol=epsilon, maxiter=max_iteration, fprime2=None)\n",
    "    return newton(fx, x0, fprime=None, args=(), tol=epsilon, maxiter=max_iteration, fprime2=None)\n",
    "\n",
    "for i in range(len(p_groups_lambda)):\n",
    "    lambda_sum += p_groups_lambda[i]\n",
    "    my_p_group_z.append(NewtonMethod(lambda_sum, mu, mean_block_size, 0, 1e-10))\n",
    "    sciPy_p_group_z.append(SciPyNewton(lambda_sum, mu, mean_block_size, 0, 1e-10, 500))\n",
    "\n",
    "for i in range(len(my_p_group_z)):\n",
    "    print(\"Priority Group \" + str(i+1))\n",
    "    print(\"My Z: \" + str(my_p_group_z[i]) + \", SciPy Z: \" + str(sciPy_p_group_z[i]))\n",
    "    "
   ]
  },
  {
   "cell_type": "markdown",
   "metadata": {},
   "source": [
    "### Wait Times Using Z"
   ]
  },
  {
   "cell_type": "code",
   "execution_count": 63,
   "metadata": {},
   "outputs": [
    {
     "name": "stdout",
     "output_type": "stream",
     "text": [
      "Priority Group 1\n",
      "Average Transaction In Queue (L):  1376.9326134743274\n",
      "Average Response Time In Queue (W): 743.4900615259027\n",
      "Priority Group 2\n",
      "Average Transaction In Queue (L):  843.2960473290768\n",
      "Average Response Time In Queue (W): 1638.8303977947135\n",
      "Priority Group 3\n",
      "Average Transaction In Queue (L):  1023.8521348672389\n",
      "Average Response Time In Queue (W): 2917.0059775136638\n",
      "Priority Group 4\n",
      "Average Transaction In Queue (L):  2147.554676179624\n",
      "Average Response Time In Queue (W): 5872.883583023225\n"
     ]
    }
   ],
   "source": [
    "prev_transaction_in_queue = 0.0\n",
    "p_group_response_time = []\n",
    "\n",
    "for i in range(len(p_groups_lambda)):\n",
    "    temp = sciPy_p_group_z[i] / (1 - sciPy_p_group_z[i]) # L(y) = z(x) / (1 - z(x))\n",
    "    transaction_in_queue = temp - prev_transaction_in_queue # L(x) = L(y) - L(y-1)\n",
    "    prev_transaction_in_queue = temp\n",
    "    \n",
    "    #transaction_in_queue = my_p_group_z[i] / (1 - my_p_group_z[i]) - prev_transaction_in_queue # L(x) = (z(x) / (1 - z(x))) - L(x-1)\n",
    "    #prev_transaction_in_queue = transaction_in_queue\n",
    "\n",
    "    response_time = transaction_in_queue / p_groups_lambda[i] # W(x) = L(x) / Lambda(x)\n",
    "\n",
    "    p_group_response_time.append(response_time)\n",
    "\n",
    "    print(\"Priority Group \" + str(i+1))\n",
    "    print(\"Average Transaction In Queue (L): \", transaction_in_queue)\n",
    "    print(\"Average Response Time In Queue (W): \" + str(response_time))"
   ]
  }
 ],
 "metadata": {
  "interpreter": {
   "hash": "26de051ba29f2982a8de78e945f0abaf191376122a1563185a90213a26c5da77"
  },
  "kernelspec": {
   "display_name": "Python 3",
   "language": "python",
   "name": "python3"
  },
  "language_info": {
   "codemirror_mode": {
    "name": "ipython",
    "version": 3
   },
   "file_extension": ".py",
   "mimetype": "text/x-python",
   "name": "python",
   "nbconvert_exporter": "python",
   "pygments_lexer": "ipython3",
   "version": "3.8.5"
  }
 },
 "nbformat": 4,
 "nbformat_minor": 2
}
